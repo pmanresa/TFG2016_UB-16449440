{
 "cells": [
  {
   "cell_type": "markdown",
   "metadata": {},
   "source": [
    "### Processador de les imatges de Airbnb.\n",
    "\n",
    "Passos a realitzar.\n",
    "1. Descarregar carpeta de les imatges **airbnb_imgs.zip** i emmagatzemar-la a un directori segur.\n",
    "2. Descarregar l'arxiu **metadata-json.txt**. Aquest conté tota la informació dels listings amb la localització del directori de les seves corresponents imatges. Exemple d'un directori absolut d'una imatge: /path/to/airbnb_imgs/8000000_to_8999999/8000000_to_8099999/8010000_to_8019999/8013000_to_8013999/8013000_to_8013099/8013090_to_8013099/b34a5b36_original.jpg\n",
    "3. Executar les següents cel·les canviant els següents strings de directoris:\n",
    "    - metafile (Directori absolut on està l'arxiu metadata-json.txt)\n",
    "    - newdir (Directori absolut on estan emmagatzemades les imatges airbnb_imgs)\n",
    "    \n",
    "Aquest codi retorna:\n",
    "- Un vector **`n`** de 238.307 posicions on cada una correspon al directori d'una certa imatge."
   ]
  },
  {
   "cell_type": "code",
   "execution_count": 1,
   "metadata": {
    "collapsed": true
   },
   "outputs": [],
   "source": [
    "import json\n",
    "\n",
    "metafile = '/Users/Pere/Desktop/scraper/metadata-json.txt'\n",
    "\n",
    "with open(metafile,'r') as f:\n",
    "    data = json.loads(f.read())"
   ]
  },
  {
   "cell_type": "code",
   "execution_count": 2,
   "metadata": {
    "collapsed": false
   },
   "outputs": [
    {
     "data": {
      "text/plain": [
       "u'/Users/Pere/Desktop/scraper/airbnb_imgs/8000000_to_8999999/8000000_to_8099999/8010000_to_8019999/8013000_to_8013999/8013000_to_8013099/8013090_to_8013099/b34a5b36_original.jpg\\n'"
      ]
     },
     "execution_count": 2,
     "metadata": {},
     "output_type": "execute_result"
    }
   ],
   "source": [
    "def getPaths(data):\n",
    "    tmp = []\n",
    "    for k in data.keys():\n",
    "        for path in data[k]['img_paths']:\n",
    "            tmp.append(path)\n",
    "    return tmp\n",
    "\n",
    "paths = getPaths(data)\n",
    "\n",
    "paths[1]"
   ]
  },
  {
   "cell_type": "code",
   "execution_count": 4,
   "metadata": {
    "collapsed": false
   },
   "outputs": [
    {
     "name": "stdout",
     "output_type": "stream",
     "text": [
      "/Users/Pere/Desktop/scraper/airbnb_imgs/8000000_to_8999999/8000000_to_8099999/8010000_to_8019999/8013000_to_8013999/8013000_to_8013099/8013090_to_8013099/b34a5b36_original.jpg\n",
      "\n",
      "/custom/path/to/airbnb_imgs/airbnb_imgs/8000000_to_8999999/8000000_to_8099999/8010000_to_8019999/8013000_to_8013999/8013000_to_8013099/8013090_to_8013099/b34a5b36_original.jpg\n",
      "\n"
     ]
    }
   ],
   "source": [
    "# This following code makes you able to change each directory path in case of having the images folder in your pc.\n",
    "# Note that an example is \n",
    "# /Users/Pere/Desktop/scraper/airbnb_imgs/8000000_to_8999999/8000000_to_.../b34a5b36_original.jpg\n",
    "# So you only have to give to the function as a parameter the path until airbnb_imgs. For example:\n",
    "# newdir = \"/new/user/system/path/\" \n",
    "# and then the function itself will complete the path properly.\n",
    "\n",
    "# path parameter is the list got by the getPaths function.\n",
    "\n",
    "def changeDirs(newdir, paths):\n",
    "    old_path = \"/Users/Pere/Desktop/scraper/\"\n",
    "    new_list = []\n",
    "    for path in paths:\n",
    "        new_list.append(path.replace(old_path, newdir))\n",
    "    return new_list\n",
    "\n",
    "newdir = \"/custom/path/to/airbnb_imgs/\"\n",
    "\n",
    "n = changeDirs(newdir,paths)\n",
    "\n",
    "print(paths[1])\n",
    "print(n[1])"
   ]
  },
  {
   "cell_type": "code",
   "execution_count": 5,
   "metadata": {
    "collapsed": false
   },
   "outputs": [
    {
     "data": {
      "text/plain": [
       "228307"
      ]
     },
     "execution_count": 5,
     "metadata": {},
     "output_type": "execute_result"
    }
   ],
   "source": [
    "len(n)"
   ]
  }
 ],
 "metadata": {
  "kernelspec": {
   "display_name": "Python 2",
   "language": "python",
   "name": "python2"
  },
  "language_info": {
   "codemirror_mode": {
    "name": "ipython",
    "version": 2
   },
   "file_extension": ".py",
   "mimetype": "text/x-python",
   "name": "python",
   "nbconvert_exporter": "python",
   "pygments_lexer": "ipython2",
   "version": "2.7.11"
  }
 },
 "nbformat": 4,
 "nbformat_minor": 0
}
